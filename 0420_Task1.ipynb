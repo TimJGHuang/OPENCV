{
 "cells": [
  {
   "cell_type": "code",
   "execution_count": 5,
   "metadata": {
    "collapsed": true
   },
   "outputs": [],
   "source": [
    "import cv2\n",
    " \n",
    "if __name__ == \"__main__\":\n",
    "    img = cv2.imread('D:/image/yuner.jpg', cv2.IMREAD_UNCHANGED)\n",
    "    \n",
    "    print('Original Dimensions : ',img.shape)\n",
    "    \n",
    "    scale_percent = 30       # percent of original size\n",
    "    width = int(img.shape[1] * scale_percent / 100)\n",
    "    height = int(img.shape[0] * scale_percent / 100)\n",
    "    dim = (width, height)\n",
    "    # resize image\n",
    "    resized = cv2.resize(img, dim, interpolation = cv2.INTER_LINEAR)\n",
    "\n",
    "    fx = 1.5\n",
    "    fy = 1.5\n",
    "\n",
    "    resized1 = cv2.resize(resized, dsize=None, fx=fx, fy=fy, interpolation = cv2.INTER_NEAREST)\n",
    "    \n",
    "    resized2 = cv2.resize(resized, dsize=None, fx=fx, fy=fy, interpolation = cv2.INTER_LINEAR)\n",
    "    print('Resized Dimensions : ',resized.shape)\n",
    "    \n",
    "    cv2.imshow(\"Resized image\", resized)\n",
    "    cv2.imshow(\"INTER_NEAREST image\", resized1)\n",
    "    cv2.imshow(\"INTER_LINEAR image\", resized2)\n",
    "    cv2.waitKey(0)\n",
    "    cv2.destroyAllWindows()"
   ]
  },
  {
   "cell_type": "code",
   "execution_count": 2,
   "metadata": {},
   "outputs": [],
   "source": [
    "import cv2\n",
    "import os"
   ]
  },
  {
   "cell_type": "code",
   "execution_count": 3,
   "metadata": {},
   "outputs": [],
   "source": [
    "path=r'C:\\D\\Jupyter\\OPENCV'\n",
    "img_name='plane.png'\n",
    "src=os.path.join(path,img_name)"
   ]
  },
  {
   "cell_type": "code",
   "execution_count": 27,
   "metadata": {},
   "outputs": [],
   "source": [
    "img_src=cv2.imread(src,cv2.IMREAD_UNCHANGED)\n",
    "#img_src=cv2.imread(src)\n",
    "img_resized=cv2.resize(img_src,dsize=None,fx=1.2,fy=1.5,interpolation=cv2.INTER_LINEAR)"
   ]
  },
  {
   "cell_type": "code",
   "execution_count": 28,
   "metadata": {},
   "outputs": [],
   "source": [
    "cv2.imshow('src:',img_resized)\n",
    "cv2.waitKey(0)\n",
    "cv2.destroyAllWindows()"
   ]
  },
  {
   "cell_type": "code",
   "execution_count": null,
   "metadata": {
    "collapsed": true
   },
   "outputs": [],
   "source": []
  }
 ],
 "metadata": {
  "kernelspec": {
   "display_name": "Python (tf)",
   "language": "python",
   "name": "tf_2c"
  },
  "language_info": {
   "codemirror_mode": {
    "name": "ipython",
    "version": 3
   },
   "file_extension": ".py",
   "mimetype": "text/x-python",
   "name": "python",
   "nbconvert_exporter": "python",
   "pygments_lexer": "ipython3",
   "version": "3.6.10"
  }
 },
 "nbformat": 4,
 "nbformat_minor": 2
}
